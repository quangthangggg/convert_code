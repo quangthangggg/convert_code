{
 "cells": [
  {
   "cell_type": "code",
   "execution_count": 1,
   "metadata": {},
   "outputs": [],
   "source": [
    "import pyspark\n",
    "from pyspark.sql import Row\n",
    "from pyspark.sql import SparkSession\n",
    "import pandas as pd"
   ]
  },
  {
   "cell_type": "code",
   "execution_count": 2,
   "metadata": {},
   "outputs": [
    {
     "name": "stdout",
     "output_type": "stream",
     "text": [
      "3.3.2\n"
     ]
    }
   ],
   "source": [
    "print(pyspark.__version__)"
   ]
  },
  {
   "cell_type": "code",
   "execution_count": 3,
   "metadata": {},
   "outputs": [],
   "source": [
    "spark = SparkSession.builder \\\n",
    "    .appName(\"example2\") \\\n",
    "    .getOrCreate()"
   ]
  },
  {
   "cell_type": "code",
   "execution_count": 4,
   "metadata": {},
   "outputs": [],
   "source": [
    "path = r\"C:\\Users\\Admin\\Downloads\\result.csv\"\n",
    "df = spark.read.csv(path, header=True, inferSchema=True)\n",
    "# df['x'] = df['FolderName']"
   ]
  },
  {
   "cell_type": "code",
   "execution_count": 5,
   "metadata": {},
   "outputs": [],
   "source": [
    "df = df.withColumn('x', df['FolderName'])"
   ]
  },
  {
   "cell_type": "code",
   "execution_count": 6,
   "metadata": {},
   "outputs": [
    {
     "name": "stdout",
     "output_type": "stream",
     "text": [
      "+--------------+--------+--------------+\n",
      "|    FolderName|RULE_OCR|             x|\n",
      "+--------------+--------+--------------+\n",
      "|BIDV0047188303|       0|BIDV0047188303|\n",
      "|BIDV0059278463|       0|BIDV0059278463|\n",
      "|BIDV0064071491|       0|BIDV0064071491|\n",
      "|BIDV0118393062|       1|BIDV0118393062|\n",
      "|BIDV0148809380|       0|BIDV0148809380|\n",
      "|BIDV0149952476|       0|BIDV0149952476|\n",
      "|BIDV0151606912|       0|BIDV0151606912|\n",
      "|BIDV0169855511|       0|BIDV0169855511|\n",
      "|BIDV0174373890|       0|BIDV0174373890|\n",
      "|BIDV0175874531|       0|BIDV0175874531|\n",
      "|BIDV0176336562|       0|BIDV0176336562|\n",
      "|BIDV0201400044|       1|BIDV0201400044|\n",
      "|BIDV0258028258|       0|BIDV0258028258|\n",
      "|BIDV0277818578|       0|BIDV0277818578|\n",
      "|BIDV0283350889|       0|BIDV0283350889|\n",
      "|BIDV0297175289|       1|BIDV0297175289|\n",
      "|BIDV0389631253|       0|BIDV0389631253|\n",
      "|BIDV0399860941|       0|BIDV0399860941|\n",
      "|BIDV0416341762|       0|BIDV0416341762|\n",
      "|BIDV0432482374|       0|BIDV0432482374|\n",
      "+--------------+--------+--------------+\n",
      "only showing top 20 rows\n",
      "\n"
     ]
    }
   ],
   "source": [
    "df.show()"
   ]
  },
  {
   "cell_type": "code",
   "execution_count": 47,
   "metadata": {},
   "outputs": [
    {
     "name": "stdout",
     "output_type": "stream",
     "text": [
      "+--------------+--------+--------------+\n",
      "|    FolderName|RULE_OCR|             x|\n",
      "+--------------+--------+--------------+\n",
      "|BIDV0047188303|       0|BIDV0047188303|\n",
      "+--------------+--------+--------------+\n",
      "\n"
     ]
    }
   ],
   "source": [
    "df.filter(df['x'] == 'BIDV0047188303').show()"
   ]
  },
  {
   "cell_type": "code",
   "execution_count": 46,
   "metadata": {},
   "outputs": [
    {
     "name": "stdout",
     "output_type": "stream",
     "text": [
      "+--------------+--------+--------------+\n",
      "|    FolderName|RULE_OCR|             x|\n",
      "+--------------+--------+--------------+\n",
      "|BIDV0047188303|       0|BIDV0047188303|\n",
      "+--------------+--------+--------------+\n",
      "\n"
     ]
    }
   ],
   "source": [
    "from pyspark.sql.functions import col\n",
    "df.filter(col('x') == 'BIDV0047188303').show()"
   ]
  },
  {
   "cell_type": "code",
   "execution_count": 56,
   "metadata": {},
   "outputs": [],
   "source": [
    "def fun_keep_vnd_currency(df, cus_id_col, currency_col, currency_value):\n",
    "    '''This function removes rows which have made transaction in other than VND currency. \n",
    "    For Ex: if currency_value is USD then we will remove the data for that customer.'''\n",
    "\n",
    "    # Select rows with only VND currencies\n",
    "    tbl = df.filter(df[currency_col]==currency_value)\n",
    "    # Select the customers which have VND currency transaction\n",
    "    lst = df.select(cus_id_col).distinct()\n",
    "    # Filter the customers not from list above\n",
    "    tbl1 = df.join(lst, df[cus_id_col] == lst[cus_id_col], \"left_anti\")\n",
    "    tbl1.persist()\n",
    "    print('Number of customers made transactions in others currencies: ', tbl1.select(cus_id_col).distinct().count())\n",
    "    \n",
    "    return tbl"
   ]
  },
  {
   "cell_type": "code",
   "execution_count": 7,
   "metadata": {},
   "outputs": [],
   "source": [
    "df1 = df[['FolderName', 'x']]"
   ]
  },
  {
   "cell_type": "code",
   "execution_count": 10,
   "metadata": {},
   "outputs": [
    {
     "data": {
      "text/plain": [
       "DataFrame[FolderName: string, x: string]"
      ]
     },
     "execution_count": 10,
     "metadata": {},
     "output_type": "execute_result"
    }
   ],
   "source": [
    "df1.fillna(0).orderBy('x')"
   ]
  },
  {
   "cell_type": "code",
   "execution_count": 23,
   "metadata": {},
   "outputs": [
    {
     "data": {
      "text/plain": [
       "DataFrame[]"
      ]
     },
     "execution_count": 23,
     "metadata": {},
     "output_type": "execute_result"
    }
   ],
   "source": [
    "df1.drop(*['FolderName', 'x'])"
   ]
  },
  {
   "cell_type": "code",
   "execution_count": 12,
   "metadata": {},
   "outputs": [],
   "source": [
    "from pyspark.sql.functions import udf\n",
    "from pyspark.sql.types import IntegerType\n",
    "\n",
    "def func(x):\n",
    "    if len(x) > 1:\n",
    "        return 0\n",
    "    else:\n",
    "        return 1\n",
    "\n",
    "# Đăng ký hàm UDF với PySpark\n",
    "udf_aaa = udf(lambda x:func(x), IntegerType())\n",
    "\n",
    "# Áp dụng hàm UDF vào cột 'x' và lưu kết quả vào cột 'lenX'\n",
    "df1 = df1.withColumn('lenX', udf_aaa(df1['x']))"
   ]
  },
  {
   "cell_type": "code",
   "execution_count": 13,
   "metadata": {},
   "outputs": [
    {
     "name": "stdout",
     "output_type": "stream",
     "text": [
      "+--------------+--------------+----+\n",
      "|    FolderName|             x|lenX|\n",
      "+--------------+--------------+----+\n",
      "|BIDV0047188303|BIDV0047188303|   0|\n",
      "|BIDV0059278463|BIDV0059278463|   0|\n",
      "|BIDV0064071491|BIDV0064071491|   0|\n",
      "|BIDV0118393062|BIDV0118393062|   0|\n",
      "|BIDV0148809380|BIDV0148809380|   0|\n",
      "|BIDV0149952476|BIDV0149952476|   0|\n",
      "|BIDV0151606912|BIDV0151606912|   0|\n",
      "|BIDV0169855511|BIDV0169855511|   0|\n",
      "|BIDV0174373890|BIDV0174373890|   0|\n",
      "|BIDV0175874531|BIDV0175874531|   0|\n",
      "|BIDV0176336562|BIDV0176336562|   0|\n",
      "|BIDV0201400044|BIDV0201400044|   0|\n",
      "|BIDV0258028258|BIDV0258028258|   0|\n",
      "|BIDV0277818578|BIDV0277818578|   0|\n",
      "|BIDV0283350889|BIDV0283350889|   0|\n",
      "|BIDV0297175289|BIDV0297175289|   0|\n",
      "|BIDV0389631253|BIDV0389631253|   0|\n",
      "|BIDV0399860941|BIDV0399860941|   0|\n",
      "|BIDV0416341762|BIDV0416341762|   0|\n",
      "|BIDV0432482374|BIDV0432482374|   0|\n",
      "+--------------+--------------+----+\n",
      "only showing top 20 rows\n",
      "\n"
     ]
    }
   ],
   "source": [
    "df1.show()"
   ]
  },
  {
   "cell_type": "code",
   "execution_count": 32,
   "metadata": {},
   "outputs": [],
   "source": [
    "from pyspark.sql.functions import col, when\n",
    "df1 = df1.withColumn('MARITAL_GROUP', when(col('x').isin(['MARRIED', 'SINGLE']), col('x')).otherwise('OTHER'))"
   ]
  },
  {
   "cell_type": "code",
   "execution_count": 49,
   "metadata": {},
   "outputs": [
    {
     "name": "stdout",
     "output_type": "stream",
     "text": [
      "+--------------+--------------+-------------+\n",
      "|    FolderName|             x|MARITAL_GROUP|\n",
      "+--------------+--------------+-------------+\n",
      "|BIDV0047188303|BIDV0047188303|        OTHER|\n",
      "|BIDV0059278463|BIDV0059278463|        OTHER|\n",
      "|BIDV0064071491|BIDV0064071491|        OTHER|\n",
      "|BIDV0118393062|BIDV0118393062|        OTHER|\n",
      "|BIDV0148809380|BIDV0148809380|        OTHER|\n",
      "|BIDV0149952476|BIDV0149952476|        OTHER|\n",
      "|BIDV0151606912|BIDV0151606912|        OTHER|\n",
      "|BIDV0169855511|BIDV0169855511|        OTHER|\n",
      "|BIDV0174373890|BIDV0174373890|        OTHER|\n",
      "|BIDV0175874531|BIDV0175874531|        OTHER|\n",
      "|BIDV0176336562|BIDV0176336562|        OTHER|\n",
      "|BIDV0201400044|BIDV0201400044|        OTHER|\n",
      "|BIDV0258028258|BIDV0258028258|        OTHER|\n",
      "|BIDV0277818578|BIDV0277818578|        OTHER|\n",
      "|BIDV0283350889|BIDV0283350889|        OTHER|\n",
      "|BIDV0297175289|BIDV0297175289|        OTHER|\n",
      "|BIDV0389631253|BIDV0389631253|        OTHER|\n",
      "|BIDV0399860941|BIDV0399860941|        OTHER|\n",
      "|BIDV0416341762|BIDV0416341762|        OTHER|\n",
      "|BIDV0432482374|BIDV0432482374|        OTHER|\n",
      "+--------------+--------------+-------------+\n",
      "only showing top 20 rows\n",
      "\n"
     ]
    }
   ],
   "source": [
    "df1.show()"
   ]
  },
  {
   "cell_type": "code",
   "execution_count": null,
   "metadata": {},
   "outputs": [],
   "source": []
  }
 ],
 "metadata": {
  "kernelspec": {
   "display_name": "Python 3",
   "language": "python",
   "name": "python3"
  },
  "language_info": {
   "codemirror_mode": {
    "name": "ipython",
    "version": 3
   },
   "file_extension": ".py",
   "mimetype": "text/x-python",
   "name": "python",
   "nbconvert_exporter": "python",
   "pygments_lexer": "ipython3",
   "version": "3.10.11"
  }
 },
 "nbformat": 4,
 "nbformat_minor": 2
}
